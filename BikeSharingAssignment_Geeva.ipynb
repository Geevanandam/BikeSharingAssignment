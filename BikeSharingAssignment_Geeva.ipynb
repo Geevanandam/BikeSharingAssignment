{
  "nbformat": 4,
  "nbformat_minor": 0,
  "metadata": {
    "colab": {
      "provenance": [],
      "authorship_tag": "ABX9TyPtHDgAeVQR98RrT0pdkGB/",
      "include_colab_link": true
    },
    "kernelspec": {
      "name": "python3",
      "display_name": "Python 3"
    },
    "language_info": {
      "name": "python"
    }
  },
  "cells": [
    {
      "cell_type": "markdown",
      "metadata": {
        "id": "view-in-github",
        "colab_type": "text"
      },
      "source": [
        "<a href=\"https://colab.research.google.com/github/Geevanandam/BikeSharingAssignment/blob/main/BikeSharingAssignment_Geeva.ipynb\" target=\"_parent\"><img src=\"https://colab.research.google.com/assets/colab-badge.svg\" alt=\"Open In Colab\"/></a>"
      ]
    },
    {
      "cell_type": "code",
      "execution_count": 15,
      "metadata": {
        "colab": {
          "base_uri": "https://localhost:8080/"
        },
        "collapsed": true,
        "id": "jtNSiaAVEAna",
        "outputId": "9c276a24-cece-47a3-f2f3-8e552881d6d8"
      },
      "outputs": [
        {
          "output_type": "stream",
          "name": "stdout",
          "text": [
            "--2024-09-22 05:52:37--  https://raw.githubusercontent.com/Geevanandam/BikeSharingAssignment/refs/heads/main/day.csv\n",
            "Resolving raw.githubusercontent.com (raw.githubusercontent.com)... 185.199.108.133, 185.199.109.133, 185.199.110.133, ...\n",
            "Connecting to raw.githubusercontent.com (raw.githubusercontent.com)|185.199.108.133|:443... connected.\n",
            "HTTP request sent, awaiting response... 416 Range Not Satisfiable\n",
            "\n",
            "    The file is already fully retrieved; nothing to do.\n",
            "\n"
          ]
        }
      ],
      "source": [
        "# prompt: import file day.csv from Github\n",
        "\n",
        "!wget -c -O day.csv https://raw.githubusercontent.com/Geevanandam/BikeSharingAssignment/refs/heads/main/day.csv\n"
      ]
    },
    {
      "cell_type": "code",
      "source": [
        "# prompt: import day.csv\n",
        "\n",
        "import pandas as pd\n",
        "\n",
        "df = pd.read_csv('/content/day.csv')\n",
        "\n",
        "# Print the first few rows of the DataFrame to verify it's loaded\n",
        "print(df.head())\n"
      ],
      "metadata": {
        "colab": {
          "base_uri": "https://localhost:8080/"
        },
        "id": "19VdMipCRQ3O",
        "outputId": "4d77ef50-8429-4a1f-8c64-3f2122e7959d"
      },
      "execution_count": 18,
      "outputs": [
        {
          "output_type": "stream",
          "name": "stdout",
          "text": [
            "   instant      dteday  season  yr  mnth  holiday  weekday  workingday  \\\n",
            "0        1  01-01-2018       1   0     1        0        6           0   \n",
            "1        2  02-01-2018       1   0     1        0        0           0   \n",
            "2        3  03-01-2018       1   0     1        0        1           1   \n",
            "3        4  04-01-2018       1   0     1        0        2           1   \n",
            "4        5  05-01-2018       1   0     1        0        3           1   \n",
            "\n",
            "   weathersit       temp     atemp      hum  windspeed  casual  registered  \\\n",
            "0           2  14.110847  18.18125  80.5833  10.749882     331         654   \n",
            "1           2  14.902598  17.68695  69.6087  16.652113     131         670   \n",
            "2           1   8.050924   9.47025  43.7273  16.636703     120        1229   \n",
            "3           1   8.200000  10.60610  59.0435  10.739832     108        1454   \n",
            "4           1   9.305237  11.46350  43.6957  12.522300      82        1518   \n",
            "\n",
            "    cnt  \n",
            "0   985  \n",
            "1   801  \n",
            "2  1349  \n",
            "3  1562  \n",
            "4  1600  \n"
          ]
        }
      ]
    },
    {
      "cell_type": "code",
      "source": [
        "# Assuming 'df' is the DataFrame\n",
        "df['weathersit'] = df['weathersit'].astype('category')\n",
        "df['season'] = df['season'].astype('category')"
      ],
      "metadata": {
        "id": "uVfiF0-9HRB5"
      },
      "execution_count": 17,
      "outputs": []
    }
  ]
}
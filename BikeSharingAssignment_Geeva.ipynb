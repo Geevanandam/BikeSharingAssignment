{
  "nbformat": 4,
  "nbformat_minor": 0,
  "metadata": {
    "colab": {
      "provenance": [],
      "authorship_tag": "ABX9TyPcierltS0nUtfONle1xg1J",
      "include_colab_link": true
    },
    "kernelspec": {
      "name": "python3",
      "display_name": "Python 3"
    },
    "language_info": {
      "name": "python"
    }
  },
  "cells": [
    {
      "cell_type": "markdown",
      "metadata": {
        "id": "view-in-github",
        "colab_type": "text"
      },
      "source": [
        "<a href=\"https://colab.research.google.com/github/Geevanandam/BikeSharingAssignment/blob/main/BikeSharingAssignment_Geeva.ipynb\" target=\"_parent\"><img src=\"https://colab.research.google.com/assets/colab-badge.svg\" alt=\"Open In Colab\"/></a>"
      ]
    },
    {
      "cell_type": "markdown",
      "source": [
        "# Prepare Data for Analysis"
      ],
      "metadata": {
        "id": "FUMh-8mWFcJ5"
      }
    },
    {
      "cell_type": "code",
      "execution_count": 1,
      "metadata": {
        "colab": {
          "base_uri": "https://localhost:8080/"
        },
        "collapsed": true,
        "cellView": "form",
        "outputId": "13dc4298-01ad-4b85-823c-1ffabfb8a73b",
        "id": "3_m3TF2rF2i2"
      },
      "outputs": [
        {
          "output_type": "stream",
          "name": "stdout",
          "text": [
            "--2024-09-24 05:24:47--  https://raw.githubusercontent.com/Geevanandam/BikeSharingAssignment/refs/heads/main/day.csv\n",
            "Resolving raw.githubusercontent.com (raw.githubusercontent.com)... 185.199.111.133, 185.199.108.133, 185.199.109.133, ...\n",
            "Connecting to raw.githubusercontent.com (raw.githubusercontent.com)|185.199.111.133|:443... connected.\n",
            "HTTP request sent, awaiting response... 416 Range Not Satisfiable\n",
            "\n",
            "    The file is already fully retrieved; nothing to do.\n",
            "\n"
          ]
        }
      ],
      "source": [
        "# @title Import data file from Github\n",
        "\n",
        "!wget -c -O day.csv https://raw.githubusercontent.com/Geevanandam/BikeSharingAssignment/refs/heads/main/day.csv\n"
      ]
    },
    {
      "cell_type": "markdown",
      "source": [
        "# Prepare Data"
      ],
      "metadata": {
        "id": "eTc9HX5lmp7A"
      }
    },
    {
      "cell_type": "code",
      "source": [
        "# @title Import Statements\n",
        "import pandas as pd\n",
        "from sklearn.preprocessing import LabelEncoder, OneHotEncoder\n",
        "import pandas as pd\n",
        "import seaborn as sns\n",
        "import matplotlib.pyplot as plt\n",
        "from sklearn.model_selection import train_test_split\n",
        "from sklearn.linear_model import LinearRegression\n",
        "from sklearn.metrics import mean_squared_error, r2_score"
      ],
      "metadata": {
        "id": "vNEa24tYfCbo"
      },
      "execution_count": 2,
      "outputs": []
    },
    {
      "cell_type": "code",
      "source": [
        "# @title Export data to Frame for processing\n",
        "\n",
        "bikedf = pd.read_csv('/content/day.csv')\n",
        "\n",
        "# Print the first few rows of the DataFrame to verify it's loaded\n",
        "print(bikedf.head())\n"
      ],
      "metadata": {
        "colab": {
          "base_uri": "https://localhost:8080/"
        },
        "id": "19VdMipCRQ3O",
        "outputId": "0c2352e8-2e2d-45d7-b6b6-a3052368940c"
      },
      "execution_count": 3,
      "outputs": [
        {
          "output_type": "stream",
          "name": "stdout",
          "text": [
            "   instant      dteday  season  yr  mnth  holiday  weekday  workingday  \\\n",
            "0        1  01-01-2018       1   0     1        0        6           0   \n",
            "1        2  02-01-2018       1   0     1        0        0           0   \n",
            "2        3  03-01-2018       1   0     1        0        1           1   \n",
            "3        4  04-01-2018       1   0     1        0        2           1   \n",
            "4        5  05-01-2018       1   0     1        0        3           1   \n",
            "\n",
            "   weathersit       temp     atemp      hum  windspeed  casual  registered  \\\n",
            "0           2  14.110847  18.18125  80.5833  10.749882     331         654   \n",
            "1           2  14.902598  17.68695  69.6087  16.652113     131         670   \n",
            "2           1   8.050924   9.47025  43.7273  16.636703     120        1229   \n",
            "3           1   8.200000  10.60610  59.0435  10.739832     108        1454   \n",
            "4           1   9.305237  11.46350  43.6957  12.522300      82        1518   \n",
            "\n",
            "    cnt  \n",
            "0   985  \n",
            "1   801  \n",
            "2  1349  \n",
            "3  1562  \n",
            "4  1600  \n"
          ]
        }
      ]
    },
    {
      "cell_type": "code",
      "source": [
        "bikedf.info()"
      ],
      "metadata": {
        "colab": {
          "base_uri": "https://localhost:8080/"
        },
        "id": "MfZ-HozMeJju",
        "outputId": "e4e52f81-f1b8-49a0-dcf3-ba12ccc343da"
      },
      "execution_count": 4,
      "outputs": [
        {
          "output_type": "stream",
          "name": "stdout",
          "text": [
            "<class 'pandas.core.frame.DataFrame'>\n",
            "RangeIndex: 730 entries, 0 to 729\n",
            "Data columns (total 16 columns):\n",
            " #   Column      Non-Null Count  Dtype  \n",
            "---  ------      --------------  -----  \n",
            " 0   instant     730 non-null    int64  \n",
            " 1   dteday      730 non-null    object \n",
            " 2   season      730 non-null    int64  \n",
            " 3   yr          730 non-null    int64  \n",
            " 4   mnth        730 non-null    int64  \n",
            " 5   holiday     730 non-null    int64  \n",
            " 6   weekday     730 non-null    int64  \n",
            " 7   workingday  730 non-null    int64  \n",
            " 8   weathersit  730 non-null    int64  \n",
            " 9   temp        730 non-null    float64\n",
            " 10  atemp       730 non-null    float64\n",
            " 11  hum         730 non-null    float64\n",
            " 12  windspeed   730 non-null    float64\n",
            " 13  casual      730 non-null    int64  \n",
            " 14  registered  730 non-null    int64  \n",
            " 15  cnt         730 non-null    int64  \n",
            "dtypes: float64(4), int64(11), object(1)\n",
            "memory usage: 91.4+ KB\n"
          ]
        }
      ]
    },
    {
      "cell_type": "code",
      "source": [
        "bikedf.describe()"
      ],
      "metadata": {
        "colab": {
          "base_uri": "https://localhost:8080/",
          "height": 320
        },
        "id": "p0JKt9NfejiW",
        "outputId": "f831728d-143a-43d1-e799-b346f365129d"
      },
      "execution_count": 5,
      "outputs": [
        {
          "output_type": "execute_result",
          "data": {
            "text/plain": [
              "          instant      season          yr        mnth     holiday     weekday  \\\n",
              "count  730.000000  730.000000  730.000000  730.000000  730.000000  730.000000   \n",
              "mean   365.500000    2.498630    0.500000    6.526027    0.028767    2.997260   \n",
              "std    210.877136    1.110184    0.500343    3.450215    0.167266    2.006161   \n",
              "min      1.000000    1.000000    0.000000    1.000000    0.000000    0.000000   \n",
              "25%    183.250000    2.000000    0.000000    4.000000    0.000000    1.000000   \n",
              "50%    365.500000    3.000000    0.500000    7.000000    0.000000    3.000000   \n",
              "75%    547.750000    3.000000    1.000000   10.000000    0.000000    5.000000   \n",
              "max    730.000000    4.000000    1.000000   12.000000    1.000000    6.000000   \n",
              "\n",
              "       workingday  weathersit        temp       atemp         hum   windspeed  \\\n",
              "count  730.000000  730.000000  730.000000  730.000000  730.000000  730.000000   \n",
              "mean     0.683562    1.394521   20.319259   23.726322   62.765175   12.763620   \n",
              "std      0.465405    0.544807    7.506729    8.150308   14.237589    5.195841   \n",
              "min      0.000000    1.000000    2.424346    3.953480    0.000000    1.500244   \n",
              "25%      0.000000    1.000000   13.811885   16.889713   52.000000    9.041650   \n",
              "50%      1.000000    1.000000   20.465826   24.368225   62.625000   12.125325   \n",
              "75%      1.000000    2.000000   26.880615   30.445775   72.989575   15.625589   \n",
              "max      1.000000    3.000000   35.328347   42.044800   97.250000   34.000021   \n",
              "\n",
              "            casual   registered          cnt  \n",
              "count   730.000000   730.000000   730.000000  \n",
              "mean    849.249315  3658.757534  4508.006849  \n",
              "std     686.479875  1559.758728  1936.011647  \n",
              "min       2.000000    20.000000    22.000000  \n",
              "25%     316.250000  2502.250000  3169.750000  \n",
              "50%     717.000000  3664.500000  4548.500000  \n",
              "75%    1096.500000  4783.250000  5966.000000  \n",
              "max    3410.000000  6946.000000  8714.000000  "
            ],
            "text/html": [
              "\n",
              "  <div id=\"df-1be45cf5-8d5d-4efd-b917-a9653afb1ba5\" class=\"colab-df-container\">\n",
              "    <div>\n",
              "<style scoped>\n",
              "    .dataframe tbody tr th:only-of-type {\n",
              "        vertical-align: middle;\n",
              "    }\n",
              "\n",
              "    .dataframe tbody tr th {\n",
              "        vertical-align: top;\n",
              "    }\n",
              "\n",
              "    .dataframe thead th {\n",
              "        text-align: right;\n",
              "    }\n",
              "</style>\n",
              "<table border=\"1\" class=\"dataframe\">\n",
              "  <thead>\n",
              "    <tr style=\"text-align: right;\">\n",
              "      <th></th>\n",
              "      <th>instant</th>\n",
              "      <th>season</th>\n",
              "      <th>yr</th>\n",
              "      <th>mnth</th>\n",
              "      <th>holiday</th>\n",
              "      <th>weekday</th>\n",
              "      <th>workingday</th>\n",
              "      <th>weathersit</th>\n",
              "      <th>temp</th>\n",
              "      <th>atemp</th>\n",
              "      <th>hum</th>\n",
              "      <th>windspeed</th>\n",
              "      <th>casual</th>\n",
              "      <th>registered</th>\n",
              "      <th>cnt</th>\n",
              "    </tr>\n",
              "  </thead>\n",
              "  <tbody>\n",
              "    <tr>\n",
              "      <th>count</th>\n",
              "      <td>730.000000</td>\n",
              "      <td>730.000000</td>\n",
              "      <td>730.000000</td>\n",
              "      <td>730.000000</td>\n",
              "      <td>730.000000</td>\n",
              "      <td>730.000000</td>\n",
              "      <td>730.000000</td>\n",
              "      <td>730.000000</td>\n",
              "      <td>730.000000</td>\n",
              "      <td>730.000000</td>\n",
              "      <td>730.000000</td>\n",
              "      <td>730.000000</td>\n",
              "      <td>730.000000</td>\n",
              "      <td>730.000000</td>\n",
              "      <td>730.000000</td>\n",
              "    </tr>\n",
              "    <tr>\n",
              "      <th>mean</th>\n",
              "      <td>365.500000</td>\n",
              "      <td>2.498630</td>\n",
              "      <td>0.500000</td>\n",
              "      <td>6.526027</td>\n",
              "      <td>0.028767</td>\n",
              "      <td>2.997260</td>\n",
              "      <td>0.683562</td>\n",
              "      <td>1.394521</td>\n",
              "      <td>20.319259</td>\n",
              "      <td>23.726322</td>\n",
              "      <td>62.765175</td>\n",
              "      <td>12.763620</td>\n",
              "      <td>849.249315</td>\n",
              "      <td>3658.757534</td>\n",
              "      <td>4508.006849</td>\n",
              "    </tr>\n",
              "    <tr>\n",
              "      <th>std</th>\n",
              "      <td>210.877136</td>\n",
              "      <td>1.110184</td>\n",
              "      <td>0.500343</td>\n",
              "      <td>3.450215</td>\n",
              "      <td>0.167266</td>\n",
              "      <td>2.006161</td>\n",
              "      <td>0.465405</td>\n",
              "      <td>0.544807</td>\n",
              "      <td>7.506729</td>\n",
              "      <td>8.150308</td>\n",
              "      <td>14.237589</td>\n",
              "      <td>5.195841</td>\n",
              "      <td>686.479875</td>\n",
              "      <td>1559.758728</td>\n",
              "      <td>1936.011647</td>\n",
              "    </tr>\n",
              "    <tr>\n",
              "      <th>min</th>\n",
              "      <td>1.000000</td>\n",
              "      <td>1.000000</td>\n",
              "      <td>0.000000</td>\n",
              "      <td>1.000000</td>\n",
              "      <td>0.000000</td>\n",
              "      <td>0.000000</td>\n",
              "      <td>0.000000</td>\n",
              "      <td>1.000000</td>\n",
              "      <td>2.424346</td>\n",
              "      <td>3.953480</td>\n",
              "      <td>0.000000</td>\n",
              "      <td>1.500244</td>\n",
              "      <td>2.000000</td>\n",
              "      <td>20.000000</td>\n",
              "      <td>22.000000</td>\n",
              "    </tr>\n",
              "    <tr>\n",
              "      <th>25%</th>\n",
              "      <td>183.250000</td>\n",
              "      <td>2.000000</td>\n",
              "      <td>0.000000</td>\n",
              "      <td>4.000000</td>\n",
              "      <td>0.000000</td>\n",
              "      <td>1.000000</td>\n",
              "      <td>0.000000</td>\n",
              "      <td>1.000000</td>\n",
              "      <td>13.811885</td>\n",
              "      <td>16.889713</td>\n",
              "      <td>52.000000</td>\n",
              "      <td>9.041650</td>\n",
              "      <td>316.250000</td>\n",
              "      <td>2502.250000</td>\n",
              "      <td>3169.750000</td>\n",
              "    </tr>\n",
              "    <tr>\n",
              "      <th>50%</th>\n",
              "      <td>365.500000</td>\n",
              "      <td>3.000000</td>\n",
              "      <td>0.500000</td>\n",
              "      <td>7.000000</td>\n",
              "      <td>0.000000</td>\n",
              "      <td>3.000000</td>\n",
              "      <td>1.000000</td>\n",
              "      <td>1.000000</td>\n",
              "      <td>20.465826</td>\n",
              "      <td>24.368225</td>\n",
              "      <td>62.625000</td>\n",
              "      <td>12.125325</td>\n",
              "      <td>717.000000</td>\n",
              "      <td>3664.500000</td>\n",
              "      <td>4548.500000</td>\n",
              "    </tr>\n",
              "    <tr>\n",
              "      <th>75%</th>\n",
              "      <td>547.750000</td>\n",
              "      <td>3.000000</td>\n",
              "      <td>1.000000</td>\n",
              "      <td>10.000000</td>\n",
              "      <td>0.000000</td>\n",
              "      <td>5.000000</td>\n",
              "      <td>1.000000</td>\n",
              "      <td>2.000000</td>\n",
              "      <td>26.880615</td>\n",
              "      <td>30.445775</td>\n",
              "      <td>72.989575</td>\n",
              "      <td>15.625589</td>\n",
              "      <td>1096.500000</td>\n",
              "      <td>4783.250000</td>\n",
              "      <td>5966.000000</td>\n",
              "    </tr>\n",
              "    <tr>\n",
              "      <th>max</th>\n",
              "      <td>730.000000</td>\n",
              "      <td>4.000000</td>\n",
              "      <td>1.000000</td>\n",
              "      <td>12.000000</td>\n",
              "      <td>1.000000</td>\n",
              "      <td>6.000000</td>\n",
              "      <td>1.000000</td>\n",
              "      <td>3.000000</td>\n",
              "      <td>35.328347</td>\n",
              "      <td>42.044800</td>\n",
              "      <td>97.250000</td>\n",
              "      <td>34.000021</td>\n",
              "      <td>3410.000000</td>\n",
              "      <td>6946.000000</td>\n",
              "      <td>8714.000000</td>\n",
              "    </tr>\n",
              "  </tbody>\n",
              "</table>\n",
              "</div>\n",
              "    <div class=\"colab-df-buttons\">\n",
              "\n",
              "  <div class=\"colab-df-container\">\n",
              "    <button class=\"colab-df-convert\" onclick=\"convertToInteractive('df-1be45cf5-8d5d-4efd-b917-a9653afb1ba5')\"\n",
              "            title=\"Convert this dataframe to an interactive table.\"\n",
              "            style=\"display:none;\">\n",
              "\n",
              "  <svg xmlns=\"http://www.w3.org/2000/svg\" height=\"24px\" viewBox=\"0 -960 960 960\">\n",
              "    <path d=\"M120-120v-720h720v720H120Zm60-500h600v-160H180v160Zm220 220h160v-160H400v160Zm0 220h160v-160H400v160ZM180-400h160v-160H180v160Zm440 0h160v-160H620v160ZM180-180h160v-160H180v160Zm440 0h160v-160H620v160Z\"/>\n",
              "  </svg>\n",
              "    </button>\n",
              "\n",
              "  <style>\n",
              "    .colab-df-container {\n",
              "      display:flex;\n",
              "      gap: 12px;\n",
              "    }\n",
              "\n",
              "    .colab-df-convert {\n",
              "      background-color: #E8F0FE;\n",
              "      border: none;\n",
              "      border-radius: 50%;\n",
              "      cursor: pointer;\n",
              "      display: none;\n",
              "      fill: #1967D2;\n",
              "      height: 32px;\n",
              "      padding: 0 0 0 0;\n",
              "      width: 32px;\n",
              "    }\n",
              "\n",
              "    .colab-df-convert:hover {\n",
              "      background-color: #E2EBFA;\n",
              "      box-shadow: 0px 1px 2px rgba(60, 64, 67, 0.3), 0px 1px 3px 1px rgba(60, 64, 67, 0.15);\n",
              "      fill: #174EA6;\n",
              "    }\n",
              "\n",
              "    .colab-df-buttons div {\n",
              "      margin-bottom: 4px;\n",
              "    }\n",
              "\n",
              "    [theme=dark] .colab-df-convert {\n",
              "      background-color: #3B4455;\n",
              "      fill: #D2E3FC;\n",
              "    }\n",
              "\n",
              "    [theme=dark] .colab-df-convert:hover {\n",
              "      background-color: #434B5C;\n",
              "      box-shadow: 0px 1px 3px 1px rgba(0, 0, 0, 0.15);\n",
              "      filter: drop-shadow(0px 1px 2px rgba(0, 0, 0, 0.3));\n",
              "      fill: #FFFFFF;\n",
              "    }\n",
              "  </style>\n",
              "\n",
              "    <script>\n",
              "      const buttonEl =\n",
              "        document.querySelector('#df-1be45cf5-8d5d-4efd-b917-a9653afb1ba5 button.colab-df-convert');\n",
              "      buttonEl.style.display =\n",
              "        google.colab.kernel.accessAllowed ? 'block' : 'none';\n",
              "\n",
              "      async function convertToInteractive(key) {\n",
              "        const element = document.querySelector('#df-1be45cf5-8d5d-4efd-b917-a9653afb1ba5');\n",
              "        const dataTable =\n",
              "          await google.colab.kernel.invokeFunction('convertToInteractive',\n",
              "                                                    [key], {});\n",
              "        if (!dataTable) return;\n",
              "\n",
              "        const docLinkHtml = 'Like what you see? Visit the ' +\n",
              "          '<a target=\"_blank\" href=https://colab.research.google.com/notebooks/data_table.ipynb>data table notebook</a>'\n",
              "          + ' to learn more about interactive tables.';\n",
              "        element.innerHTML = '';\n",
              "        dataTable['output_type'] = 'display_data';\n",
              "        await google.colab.output.renderOutput(dataTable, element);\n",
              "        const docLink = document.createElement('div');\n",
              "        docLink.innerHTML = docLinkHtml;\n",
              "        element.appendChild(docLink);\n",
              "      }\n",
              "    </script>\n",
              "  </div>\n",
              "\n",
              "\n",
              "<div id=\"df-af77a3b7-af58-4b1f-9e3f-7cfd5c86e48b\">\n",
              "  <button class=\"colab-df-quickchart\" onclick=\"quickchart('df-af77a3b7-af58-4b1f-9e3f-7cfd5c86e48b')\"\n",
              "            title=\"Suggest charts\"\n",
              "            style=\"display:none;\">\n",
              "\n",
              "<svg xmlns=\"http://www.w3.org/2000/svg\" height=\"24px\"viewBox=\"0 0 24 24\"\n",
              "     width=\"24px\">\n",
              "    <g>\n",
              "        <path d=\"M19 3H5c-1.1 0-2 .9-2 2v14c0 1.1.9 2 2 2h14c1.1 0 2-.9 2-2V5c0-1.1-.9-2-2-2zM9 17H7v-7h2v7zm4 0h-2V7h2v10zm4 0h-2v-4h2v4z\"/>\n",
              "    </g>\n",
              "</svg>\n",
              "  </button>\n",
              "\n",
              "<style>\n",
              "  .colab-df-quickchart {\n",
              "      --bg-color: #E8F0FE;\n",
              "      --fill-color: #1967D2;\n",
              "      --hover-bg-color: #E2EBFA;\n",
              "      --hover-fill-color: #174EA6;\n",
              "      --disabled-fill-color: #AAA;\n",
              "      --disabled-bg-color: #DDD;\n",
              "  }\n",
              "\n",
              "  [theme=dark] .colab-df-quickchart {\n",
              "      --bg-color: #3B4455;\n",
              "      --fill-color: #D2E3FC;\n",
              "      --hover-bg-color: #434B5C;\n",
              "      --hover-fill-color: #FFFFFF;\n",
              "      --disabled-bg-color: #3B4455;\n",
              "      --disabled-fill-color: #666;\n",
              "  }\n",
              "\n",
              "  .colab-df-quickchart {\n",
              "    background-color: var(--bg-color);\n",
              "    border: none;\n",
              "    border-radius: 50%;\n",
              "    cursor: pointer;\n",
              "    display: none;\n",
              "    fill: var(--fill-color);\n",
              "    height: 32px;\n",
              "    padding: 0;\n",
              "    width: 32px;\n",
              "  }\n",
              "\n",
              "  .colab-df-quickchart:hover {\n",
              "    background-color: var(--hover-bg-color);\n",
              "    box-shadow: 0 1px 2px rgba(60, 64, 67, 0.3), 0 1px 3px 1px rgba(60, 64, 67, 0.15);\n",
              "    fill: var(--button-hover-fill-color);\n",
              "  }\n",
              "\n",
              "  .colab-df-quickchart-complete:disabled,\n",
              "  .colab-df-quickchart-complete:disabled:hover {\n",
              "    background-color: var(--disabled-bg-color);\n",
              "    fill: var(--disabled-fill-color);\n",
              "    box-shadow: none;\n",
              "  }\n",
              "\n",
              "  .colab-df-spinner {\n",
              "    border: 2px solid var(--fill-color);\n",
              "    border-color: transparent;\n",
              "    border-bottom-color: var(--fill-color);\n",
              "    animation:\n",
              "      spin 1s steps(1) infinite;\n",
              "  }\n",
              "\n",
              "  @keyframes spin {\n",
              "    0% {\n",
              "      border-color: transparent;\n",
              "      border-bottom-color: var(--fill-color);\n",
              "      border-left-color: var(--fill-color);\n",
              "    }\n",
              "    20% {\n",
              "      border-color: transparent;\n",
              "      border-left-color: var(--fill-color);\n",
              "      border-top-color: var(--fill-color);\n",
              "    }\n",
              "    30% {\n",
              "      border-color: transparent;\n",
              "      border-left-color: var(--fill-color);\n",
              "      border-top-color: var(--fill-color);\n",
              "      border-right-color: var(--fill-color);\n",
              "    }\n",
              "    40% {\n",
              "      border-color: transparent;\n",
              "      border-right-color: var(--fill-color);\n",
              "      border-top-color: var(--fill-color);\n",
              "    }\n",
              "    60% {\n",
              "      border-color: transparent;\n",
              "      border-right-color: var(--fill-color);\n",
              "    }\n",
              "    80% {\n",
              "      border-color: transparent;\n",
              "      border-right-color: var(--fill-color);\n",
              "      border-bottom-color: var(--fill-color);\n",
              "    }\n",
              "    90% {\n",
              "      border-color: transparent;\n",
              "      border-bottom-color: var(--fill-color);\n",
              "    }\n",
              "  }\n",
              "</style>\n",
              "\n",
              "  <script>\n",
              "    async function quickchart(key) {\n",
              "      const quickchartButtonEl =\n",
              "        document.querySelector('#' + key + ' button');\n",
              "      quickchartButtonEl.disabled = true;  // To prevent multiple clicks.\n",
              "      quickchartButtonEl.classList.add('colab-df-spinner');\n",
              "      try {\n",
              "        const charts = await google.colab.kernel.invokeFunction(\n",
              "            'suggestCharts', [key], {});\n",
              "      } catch (error) {\n",
              "        console.error('Error during call to suggestCharts:', error);\n",
              "      }\n",
              "      quickchartButtonEl.classList.remove('colab-df-spinner');\n",
              "      quickchartButtonEl.classList.add('colab-df-quickchart-complete');\n",
              "    }\n",
              "    (() => {\n",
              "      let quickchartButtonEl =\n",
              "        document.querySelector('#df-af77a3b7-af58-4b1f-9e3f-7cfd5c86e48b button');\n",
              "      quickchartButtonEl.style.display =\n",
              "        google.colab.kernel.accessAllowed ? 'block' : 'none';\n",
              "    })();\n",
              "  </script>\n",
              "</div>\n",
              "\n",
              "    </div>\n",
              "  </div>\n"
            ],
            "application/vnd.google.colaboratory.intrinsic+json": {
              "type": "dataframe",
              "summary": "{\n  \"name\": \"df\",\n  \"rows\": 8,\n  \"fields\": [\n    {\n      \"column\": \"instant\",\n      \"properties\": {\n        \"dtype\": \"number\",\n        \"std\": 262.790805827158,\n        \"min\": 1.0,\n        \"max\": 730.0,\n        \"num_unique_values\": 6,\n        \"samples\": [\n          730.0,\n          365.5,\n          547.75\n        ],\n        \"semantic_type\": \"\",\n        \"description\": \"\"\n      }\n    },\n    {\n      \"column\": \"season\",\n      \"properties\": {\n        \"dtype\": \"number\",\n        \"std\": 257.25706584809797,\n        \"min\": 1.0,\n        \"max\": 730.0,\n        \"num_unique_values\": 7,\n        \"samples\": [\n          730.0,\n          2.4986301369863013,\n          3.0\n        ],\n        \"semantic_type\": \"\",\n        \"description\": \"\"\n      }\n    },\n    {\n      \"column\": \"yr\",\n      \"properties\": {\n        \"dtype\": \"number\",\n        \"std\": 257.9174580665764,\n        \"min\": 0.0,\n        \"max\": 730.0,\n        \"num_unique_values\": 5,\n        \"samples\": [\n          0.5,\n          1.0,\n          0.5003428180039369\n        ],\n        \"semantic_type\": \"\",\n        \"description\": \"\"\n      }\n    },\n    {\n      \"column\": \"mnth\",\n      \"properties\": {\n        \"dtype\": \"number\",\n        \"std\": 255.89746551193636,\n        \"min\": 1.0,\n        \"max\": 730.0,\n        \"num_unique_values\": 8,\n        \"samples\": [\n          6.526027397260274,\n          7.0,\n          730.0\n        ],\n        \"semantic_type\": \"\",\n        \"description\": \"\"\n      }\n    },\n    {\n      \"column\": \"holiday\",\n      \"properties\": {\n        \"dtype\": \"number\",\n        \"std\": 258.0337945628788,\n        \"min\": 0.0,\n        \"max\": 730.0,\n        \"num_unique_values\": 5,\n        \"samples\": [\n          0.028767123287671233,\n          1.0,\n          0.16726596126617496\n        ],\n        \"semantic_type\": \"\",\n        \"description\": \"\"\n      }\n    },\n    {\n      \"column\": \"weekday\",\n      \"properties\": {\n        \"dtype\": \"number\",\n        \"std\": 257.0911085517657,\n        \"min\": 0.0,\n        \"max\": 730.0,\n        \"num_unique_values\": 8,\n        \"samples\": [\n          2.9972602739726026,\n          3.0,\n          730.0\n        ],\n        \"semantic_type\": \"\",\n        \"description\": \"\"\n      }\n    },\n    {\n      \"column\": \"workingday\",\n      \"properties\": {\n        \"dtype\": \"number\",\n        \"std\": 257.88475989442935,\n        \"min\": 0.0,\n        \"max\": 730.0,\n        \"num_unique_values\": 5,\n        \"samples\": [\n          0.6835616438356165,\n          1.0,\n          0.4654050254978033\n        ],\n        \"semantic_type\": \"\",\n        \"description\": \"\"\n      }\n    },\n    {\n      \"column\": \"weathersit\",\n      \"properties\": {\n        \"dtype\": \"number\",\n        \"std\": 257.59310810483925,\n        \"min\": 0.5448072389026616,\n        \"max\": 730.0,\n        \"num_unique_values\": 6,\n        \"samples\": [\n          730.0,\n          1.3945205479452054,\n          3.0\n        ],\n        \"semantic_type\": \"\",\n        \"description\": \"\"\n      }\n    },\n    {\n      \"column\": \"temp\",\n      \"properties\": {\n        \"dtype\": \"number\",\n        \"std\": 251.90859762119877,\n        \"min\": 2.4243464,\n        \"max\": 730.0,\n        \"num_unique_values\": 8,\n        \"samples\": [\n          20.319259216986303,\n          20.4658265,\n          730.0\n        ],\n        \"semantic_type\": \"\",\n        \"description\": \"\"\n      }\n    },\n    {\n      \"column\": \"atemp\",\n      \"properties\": {\n        \"dtype\": \"number\",\n        \"std\": 250.83046637950625,\n        \"min\": 3.95348,\n        \"max\": 730.0,\n        \"num_unique_values\": 8,\n        \"samples\": [\n          23.72632162328767,\n          24.368225,\n          730.0\n        ],\n        \"semantic_type\": \"\",\n        \"description\": \"\"\n      }\n    },\n    {\n      \"column\": \"hum\",\n      \"properties\": {\n        \"dtype\": \"number\",\n        \"std\": 241.8474494297158,\n        \"min\": 0.0,\n        \"max\": 730.0,\n        \"num_unique_values\": 8,\n        \"samples\": [\n          62.76517493150686,\n          62.625,\n          730.0\n        ],\n        \"semantic_type\": \"\",\n        \"description\": \"\"\n      }\n    },\n    {\n      \"column\": \"windspeed\",\n      \"properties\": {\n        \"dtype\": \"number\",\n        \"std\": 253.7207029060605,\n        \"min\": 1.5002439,\n        \"max\": 730.0,\n        \"num_unique_values\": 8,\n        \"samples\": [\n          12.763619654657534,\n          12.125325,\n          730.0\n        ],\n        \"semantic_type\": \"\",\n        \"description\": \"\"\n      }\n    },\n    {\n      \"column\": \"casual\",\n      \"properties\": {\n        \"dtype\": \"number\",\n        \"std\": 1038.5640442302167,\n        \"min\": 2.0,\n        \"max\": 3410.0,\n        \"num_unique_values\": 8,\n        \"samples\": [\n          849.2493150684932,\n          717.0,\n          730.0\n        ],\n        \"semantic_type\": \"\",\n        \"description\": \"\"\n      }\n    },\n    {\n      \"column\": \"registered\",\n      \"properties\": {\n        \"dtype\": \"number\",\n        \"std\": 2267.1402315036694,\n        \"min\": 20.0,\n        \"max\": 6946.0,\n        \"num_unique_values\": 8,\n        \"samples\": [\n          3658.7575342465752,\n          3664.5,\n          730.0\n        ],\n        \"semantic_type\": \"\",\n        \"description\": \"\"\n      }\n    },\n    {\n      \"column\": \"cnt\",\n      \"properties\": {\n        \"dtype\": \"number\",\n        \"std\": 2863.2942861331426,\n        \"min\": 22.0,\n        \"max\": 8714.0,\n        \"num_unique_values\": 8,\n        \"samples\": [\n          4508.006849315068,\n          4548.5,\n          730.0\n        ],\n        \"semantic_type\": \"\",\n        \"description\": \"\"\n      }\n    }\n  ]\n}"
            }
          },
          "metadata": {},
          "execution_count": 5
        }
      ]
    },
    {
      "cell_type": "code",
      "source": [
        "print(bikedf.shape)"
      ],
      "metadata": {
        "colab": {
          "base_uri": "https://localhost:8080/"
        },
        "id": "_n-9uphtevII",
        "outputId": "9f2ca204-8c86-4d92-b831-b836109fa6a0"
      },
      "execution_count": 6,
      "outputs": [
        {
          "output_type": "stream",
          "name": "stdout",
          "text": [
            "(730, 16)\n"
          ]
        }
      ]
    },
    {
      "cell_type": "code",
      "source": [
        "# Analysing Data and Data dictionary columns 'instant','dteday','casual' and 'registered' can be dropped\n",
        "bikedf.columns"
      ],
      "metadata": {
        "id": "uVfiF0-9HRB5"
      },
      "execution_count": 7,
      "outputs": []
    },
    {
      "cell_type": "code",
      "source": [
        "bikedf_new=bikedf[['season', 'yr', 'mnth', 'holiday', 'weekday',\n",
        "       'workingday', 'weathersit', 'temp', 'atemp', 'hum', 'windspeed',\n",
        "       'cnt']]\n",
        "bikedf_new.info()"
      ],
      "metadata": {
        "id": "MXUiTsUxhc0f"
      },
      "execution_count": null,
      "outputs": []
    },
    {
      "cell_type": "code",
      "source": [
        "# Map categorical variable values (assuming a data dictionary is available)\n",
        "bikedf_new['season'] = bikedf_new['season'].map({1: 'Spring', 2: 'Summer', 3: 'Autumn', 4: 'Winter'})\n",
        "bikedf_new['weathersit'] = bikedf_new['weathersit'].map({1: 'Clear', 2: 'Cloudy', 3: 'Light Rain', 4: 'Heavy Rain + Thunderstorm'})\n",
        "bikedf_new['mnth']=bikedf_new['mnth'].map({1: 'jan',2: 'feb',3: 'mar',4: 'apr',5: 'may',6: 'jun',\n",
        "                  7: 'jul',8: 'aug',9: 'sept',10: 'oct',11: 'nov',12: 'dec'})"
      ],
      "metadata": {
        "id": "WguZah4ShrO4"
      },
      "execution_count": null,
      "outputs": []
    },
    {
      "cell_type": "code",
      "source": [
        "# prompt: apply get dummies\n",
        "# Apply get_dummies to categorical features\n",
        "bikedf_new = pd.get_dummies(bikedf_new, columns=['season', 'mnth', 'weekday', 'weathersit'], drop_first=True, dtype=int)\n",
        "bikedf_new.info()"
      ],
      "metadata": {
        "colab": {
          "base_uri": "https://localhost:8080/"
        },
        "id": "Bcud2-mMbc-s",
        "outputId": "14537de4-0649-43cf-b090-04f638ad79e4"
      },
      "execution_count": 9,
      "outputs": [
        {
          "output_type": "stream",
          "name": "stdout",
          "text": [
            "   instant  yr  holiday  workingday       temp     atemp      hum  windspeed  \\\n",
            "0        1   0        0           0  14.110847  18.18125  80.5833  10.749882   \n",
            "1        2   0        0           0  14.902598  17.68695  69.6087  16.652113   \n",
            "2        3   0        0           1   8.050924   9.47025  43.7273  16.636703   \n",
            "3        4   0        0           1   8.200000  10.60610  59.0435  10.739832   \n",
            "4        5   0        0           1   9.305237  11.46350  43.6957  12.522300   \n",
            "\n",
            "    cnt  season_Spring  ...  mnth_oct  mnth_sept  weekday_1  weekday_2  \\\n",
            "0   985              1  ...         0          0          0          0   \n",
            "1   801              1  ...         0          0          0          0   \n",
            "2  1349              1  ...         0          0          1          0   \n",
            "3  1562              1  ...         0          0          0          1   \n",
            "4  1600              1  ...         0          0          0          0   \n",
            "\n",
            "   weekday_3  weekday_4  weekday_5  weekday_6  weathersit_Cloudy  \\\n",
            "0          0          0          0          1                  1   \n",
            "1          0          0          0          0                  1   \n",
            "2          0          0          0          0                  0   \n",
            "3          0          0          0          0                  0   \n",
            "4          1          0          0          0                  0   \n",
            "\n",
            "   weathersit_Light Rain  \n",
            "0                      0  \n",
            "1                      0  \n",
            "2                      0  \n",
            "3                      0  \n",
            "4                      0  \n",
            "\n",
            "[5 rows x 31 columns]\n"
          ]
        }
      ]
    },
    {
      "cell_type": "code",
      "source": [
        "# @title Splitting the Data\n"
      ],
      "metadata": {
        "id": "-b7mBgJ3jnNs"
      },
      "execution_count": null,
      "outputs": []
    },
    {
      "cell_type": "markdown",
      "source": [
        "# Exploratory data analysis(EDA)"
      ],
      "metadata": {
        "id": "Yu1CcEOkGTTG"
      }
    },
    {
      "cell_type": "markdown",
      "source": [
        "# Univariate Analysis"
      ],
      "metadata": {
        "id": "qE-pkjNpG1X6"
      }
    },
    {
      "cell_type": "code",
      "source": [
        "# @title Descriptive Statistics:\n",
        "print(df.describe())"
      ],
      "metadata": {
        "colab": {
          "base_uri": "https://localhost:8080/"
        },
        "id": "cJY3-OQLH-R-",
        "outputId": "0fcd6019-191d-4260-fed5-3b517d8e21df"
      },
      "execution_count": 10,
      "outputs": [
        {
          "output_type": "stream",
          "name": "stdout",
          "text": [
            "          instant          yr     holiday  workingday        temp       atemp  \\\n",
            "count  730.000000  730.000000  730.000000  730.000000  730.000000  730.000000   \n",
            "mean   365.500000    0.500000    0.028767    0.683562   20.319259   23.726322   \n",
            "std    210.877136    0.500343    0.167266    0.465405    7.506729    8.150308   \n",
            "min      1.000000    0.000000    0.000000    0.000000    2.424346    3.953480   \n",
            "25%    183.250000    0.000000    0.000000    0.000000   13.811885   16.889713   \n",
            "50%    365.500000    0.500000    0.000000    1.000000   20.465826   24.368225   \n",
            "75%    547.750000    1.000000    0.000000    1.000000   26.880615   30.445775   \n",
            "max    730.000000    1.000000    1.000000    1.000000   35.328347   42.044800   \n",
            "\n",
            "              hum   windspeed          cnt  season_Spring  ...    mnth_oct  \\\n",
            "count  730.000000  730.000000   730.000000     730.000000  ...  730.000000   \n",
            "mean    62.765175   12.763620  4508.006849       0.246575  ...    0.084932   \n",
            "std     14.237589    5.195841  1936.011647       0.431313  ...    0.278971   \n",
            "min      0.000000    1.500244    22.000000       0.000000  ...    0.000000   \n",
            "25%     52.000000    9.041650  3169.750000       0.000000  ...    0.000000   \n",
            "50%     62.625000   12.125325  4548.500000       0.000000  ...    0.000000   \n",
            "75%     72.989575   15.625589  5966.000000       0.000000  ...    0.000000   \n",
            "max     97.250000   34.000021  8714.000000       1.000000  ...    1.000000   \n",
            "\n",
            "        mnth_sept   weekday_1   weekday_2   weekday_3   weekday_4   weekday_5  \\\n",
            "count  730.000000  730.000000  730.000000  730.000000  730.000000  730.000000   \n",
            "mean     0.082192    0.143836    0.142466    0.141096    0.142466    0.142466   \n",
            "std      0.274845    0.351164    0.349767    0.348359    0.349767    0.349767   \n",
            "min      0.000000    0.000000    0.000000    0.000000    0.000000    0.000000   \n",
            "25%      0.000000    0.000000    0.000000    0.000000    0.000000    0.000000   \n",
            "50%      0.000000    0.000000    0.000000    0.000000    0.000000    0.000000   \n",
            "75%      0.000000    0.000000    0.000000    0.000000    0.000000    0.000000   \n",
            "max      1.000000    1.000000    1.000000    1.000000    1.000000    1.000000   \n",
            "\n",
            "        weekday_6  weathersit_Cloudy  weathersit_Light Rain  \n",
            "count  730.000000         730.000000             730.000000  \n",
            "mean     0.143836           0.336986               0.028767  \n",
            "std      0.351164           0.473004               0.167266  \n",
            "min      0.000000           0.000000               0.000000  \n",
            "25%      0.000000           0.000000               0.000000  \n",
            "50%      0.000000           0.000000               0.000000  \n",
            "75%      0.000000           1.000000               0.000000  \n",
            "max      1.000000           1.000000               1.000000  \n",
            "\n",
            "[8 rows x 31 columns]\n"
          ]
        }
      ]
    },
    {
      "cell_type": "code",
      "source": [
        "# @title Histograms\n",
        "sns.histplot(df['cnt'])\n",
        "plt.show()"
      ],
      "metadata": {
        "colab": {
          "base_uri": "https://localhost:8080/",
          "height": 449
        },
        "id": "G54mSnX-IFpq",
        "outputId": "ce04e165-43f4-45d4-ef55-d6b7cbf163b8"
      },
      "execution_count": 11,
      "outputs": [
        {
          "output_type": "display_data",
          "data": {
            "text/plain": [
              "<Figure size 640x480 with 1 Axes>"
            ],
            "image/png": "[encoded data removed]"
          },
          "metadata": {}
        }
      ]
    },
    {
      "cell_type": "code",
      "source": [
        "# @title Bar Charts\n",
        "\n",
        "fig, axes = plt.subplots(1, 3, figsize=(15, 5))  # 1 row, 3 columns for subplots\n",
        "sns.countplot(x='season_Spring', data=df, ax=axes[0])\n",
        "sns.countplot(x='season_Summer', data=df, ax=axes[1])\n",
        "sns.countplot(x='season_Winter', data=df, ax=axes[2])\n",
        "\n",
        "axes[0].set_title('season_Spring')\n",
        "axes[1].set_title('season_Summer')\n",
        "axes[2].set_title('season_Winter')\n",
        "\n",
        "plt.tight_layout()\n",
        "plt.show()"
      ],
      "metadata": {
        "colab": {
          "base_uri": "https://localhost:8080/",
          "height": 493
        },
        "id": "QZrNx89iIGtQ",
        "outputId": "591cd8b6-4b14-4081-f186-138cf8e1df1d"
      },
      "execution_count": 12,
      "outputs": [
        {
          "output_type": "display_data",
          "data": {
            "text/plain": [
              "<Figure size 1500x500 with 3 Axes>"
            ],
            "image/png": "[encoded data removed]"
          },
          "metadata": {}
        }
      ]
    },
    {
      "cell_type": "code",
      "source": [
        "# @title Box Plots\n",
        "\n",
        "fig, axes = plt.subplots(1, 3, figsize=(15, 5))  # 1 row, 3 columns for subplots\n",
        "\n",
        "# Create boxplots for each season\n",
        "sns.boxplot(x='season_Spring', y='cnt', data=df, ax=axes[0])\n",
        "sns.boxplot(x='season_Summer', y='cnt', data=df, ax=axes[1])\n",
        "sns.boxplot(x='season_Winter', y='cnt', data=df, ax=axes[2])\n",
        "\n",
        "# Customize the plots as needed\n",
        "axes[0].set_title('season_Spring')\n",
        "axes[1].set_title('season_Summer')\n",
        "axes[2].set_title('season_Winter')\n",
        "\n",
        "plt.tight_layout()  # Adjust spacing between subplots\n",
        "plt.show()"
      ],
      "metadata": {
        "colab": {
          "base_uri": "https://localhost:8080/",
          "height": 493
        },
        "id": "f8Tis8P3IG3w",
        "outputId": "4ee229e0-9503-4920-fdd1-bbebeaf2bf69"
      },
      "execution_count": 13,
      "outputs": [
        {
          "output_type": "display_data",
          "data": {
            "text/plain": [
              "<Figure size 1500x500 with 3 Axes>"
            ],
            "image/png": "[encoded data removed]"
          },
          "metadata": {}
        }
      ]
    },
    {
      "cell_type": "markdown",
      "source": [
        "# Bivariate Analysis"
      ],
      "metadata": {
        "id": "sOSy3X7LHdGO"
      }
    },
    {
      "cell_type": "code",
      "source": [
        "# @title Correlate Analysis\n",
        "correlation_matrix = df.corr()\n",
        "sns.heatmap(correlation_matrix, annot=True)\n",
        "plt.show()"
      ],
      "metadata": {
        "id": "19R9eMBHHkOT"
      },
      "execution_count": null,
      "outputs": []
    },
    {
      "cell_type": "code",
      "source": [
        "# @title Group Statistics\n",
        "grouped_data = df.groupby('season')['cnt'].mean()\n",
        "print(grouped_data)"
      ],
      "metadata": {
        "id": "zATLj1beHxdn"
      },
      "execution_count": null,
      "outputs": []
    }
  ]
}
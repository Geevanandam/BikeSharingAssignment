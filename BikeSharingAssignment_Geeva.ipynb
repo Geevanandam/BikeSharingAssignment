{
  "nbformat": 4,
  "nbformat_minor": 0,
  "metadata": {
    "colab": {
      "provenance": [],
      "mount_file_id": "1SKAl3dq4-9pdq9E3QCePb_7duVPJ1UNa",
      "authorship_tag": "ABX9TyOmnmjZrE3rl04obFnV8aQs",
      "include_colab_link": true
    },
    "kernelspec": {
      "name": "python3",
      "display_name": "Python 3"
    },
    "language_info": {
      "name": "python"
    }
  },
  "cells": [
    {
      "cell_type": "markdown",
      "metadata": {
        "id": "view-in-github",
        "colab_type": "text"
      },
      "source": [
        "<a href=\"https://colab.research.google.com/github/Geevanandam/BikeSharingAssignment/blob/main/BikeSharingAssignment_Geeva.ipynb\" target=\"_parent\"><img src=\"https://colab.research.google.com/assets/colab-badge.svg\" alt=\"Open In Colab\"/></a>"
      ]
    },
    {
      "cell_type": "code",
      "execution_count": 16,
      "metadata": {
        "colab": {
          "base_uri": "https://localhost:8080/"
        },
        "collapsed": true,
        "id": "jtNSiaAVEAna",
        "outputId": "13c1ac5c-61cf-4613-e8bd-57287207fa32"
      },
      "outputs": [
        {
          "output_type": "stream",
          "name": "stdout",
          "text": [
            "   instant      dteday  season  yr  mnth  holiday  weekday  workingday  \\\n",
            "0        1  01-01-2018       1   0     1        0        6           0   \n",
            "1        2  02-01-2018       1   0     1        0        0           0   \n",
            "2        3  03-01-2018       1   0     1        0        1           1   \n",
            "3        4  04-01-2018       1   0     1        0        2           1   \n",
            "4        5  05-01-2018       1   0     1        0        3           1   \n",
            "\n",
            "   weathersit       temp     atemp      hum  windspeed  casual  registered  \\\n",
            "0           2  14.110847  18.18125  80.5833  10.749882     331         654   \n",
            "1           2  14.902598  17.68695  69.6087  16.652113     131         670   \n",
            "2           1   8.050924   9.47025  43.7273  16.636703     120        1229   \n",
            "3           1   8.200000  10.60610  59.0435  10.739832     108        1454   \n",
            "4           1   9.305237  11.46350  43.6957  12.522300      82        1518   \n",
            "\n",
            "    cnt  \n",
            "0   985  \n",
            "1   801  \n",
            "2  1349  \n",
            "3  1562  \n",
            "4  1600  \n"
          ]
        }
      ],
      "source": [
        "# prompt: import file day.csv from drive\n",
        "\n",
        "import pandas as pd\n",
        "\n",
        "# Assuming your CSV file is in 'My Drive/day.csv'\n",
        "df = pd.read_csv('/content/drive/MyDrive/BikeSharingAssignment/day.csv')\n",
        "\n",
        "# Print the first few rows of the DataFrame to verify it's loaded\n",
        "print(df.head())\n"
      ]
    },
    {
      "cell_type": "code",
      "source": [
        "# Assuming 'df' is the DataFrame\n",
        "df['weathersit'] = df['weathersit'].astype('category')\n",
        "df['season'] = df['season'].astype('category')"
      ],
      "metadata": {
        "id": "uVfiF0-9HRB5"
      },
      "execution_count": 17,
      "outputs": []
    }
  ]
}